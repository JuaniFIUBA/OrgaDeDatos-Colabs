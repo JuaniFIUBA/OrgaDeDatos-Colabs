{
  "nbformat": 4,
  "nbformat_minor": 0,
  "metadata": {
    "colab": {
      "provenance": [],
      "mount_file_id": "1EtCaG2xS-n2qSsezEgZBE4CU_DgMXzmW",
      "authorship_tag": "ABX9TyPhSPyqF5eF4mLre0dnTsHI",
      "include_colab_link": true
    },
    "kernelspec": {
      "name": "python3",
      "display_name": "Python 3"
    },
    "language_info": {
      "name": "python"
    }
  },
  "cells": [
    {
      "cell_type": "markdown",
      "metadata": {
        "id": "view-in-github",
        "colab_type": "text"
      },
      "source": [
        "<a href=\"https://colab.research.google.com/github/JuaniFIUBA/OrgaDeDatos-Colabs/blob/main/8_Pandas.ipynb\" target=\"_parent\"><img src=\"https://colab.research.google.com/assets/colab-badge.svg\" alt=\"Open In Colab\"/></a>"
      ]
    },
    {
      "cell_type": "markdown",
      "source": [
        "Punto 8\n",
        "\n",
        "¿Cuál es la aplicación con el nombre más largo?\n",
        "\n",
        "# Importante\n",
        "Voy a dejar los metodos que probe para comprobar resultados y eficiencia comentados. El resultado final junto a su solución los dejo sin comentar"
      ],
      "metadata": {
        "id": "E98GqDXgjSb_"
      }
    },
    {
      "cell_type": "code",
      "source": [
        "import pandas as pd\n",
        "import numpy as np"
      ],
      "metadata": {
        "id": "oPfBoRRjjmKe"
      },
      "execution_count": null,
      "outputs": []
    },
    {
      "cell_type": "code",
      "source": [
        "from google.colab import drive\n",
        "drive.mount(\"/content/drive\")"
      ],
      "metadata": {
        "colab": {
          "base_uri": "https://localhost:8080/"
        },
        "id": "yiSYK3IitgfQ",
        "outputId": "a143ed08-d861-46a4-8c53-aad08bbaacb4"
      },
      "execution_count": null,
      "outputs": [
        {
          "output_type": "stream",
          "name": "stdout",
          "text": [
            "Drive already mounted at /content/drive; to attempt to forcibly remount, call drive.mount(\"/content/drive\", force_remount=True).\n"
          ]
        }
      ]
    },
    {
      "cell_type": "code",
      "source": [
        "app_data = pd.read_csv('/content/drive/MyDrive/aa-OrgaDeDatos/googleplaystore.csv')\n",
        "app_reviews = pd.read_csv('/content/drive/MyDrive/aa-OrgaDeDatos/googleplaystore_user_reviews.csv')"
      ],
      "metadata": {
        "id": "K4nph56gjqM0"
      },
      "execution_count": null,
      "outputs": []
    },
    {
      "cell_type": "markdown",
      "source": [
        "En base a la consigna, no voy a realizar ningun filtrado de los dataframes ya que de ninguna manera se afecta al resultado final con las filas que contienen datos que se pueden considerar invalidos en otro contexto."
      ],
      "metadata": {
        "id": "CVrBSCJzEE8B"
      }
    },
    {
      "cell_type": "code",
      "source": [
        "largest_name_app_reviews = app_reviews['App'].map(len).idxmax()\n",
        "app_reviews.iloc[largest_name_app_reviews, :].values[0]"
      ],
      "metadata": {
        "colab": {
          "base_uri": "https://localhost:8080/",
          "height": 36
        },
        "id": "acE0BAm-zvf3",
        "outputId": "df2f0c7e-b2c6-4bf8-bf89-f798db7d60c5"
      },
      "execution_count": null,
      "outputs": [
        {
          "output_type": "execute_result",
          "data": {
            "text/plain": [
              "'591房屋交易-租屋、中古屋、新建案、實價登錄、別墅透天、公寓套房、捷運、買房賣房行情、房價房貸查詢'"
            ],
            "application/vnd.google.colaboratory.intrinsic+json": {
              "type": "string"
            }
          },
          "metadata": {},
          "execution_count": 4
        }
      ]
    },
    {
      "cell_type": "code",
      "source": [
        "largest_name_app_data = app_data['App'].map(len).idxmax()\n",
        "app_data.iloc[largest_name_app_data, :].values[0]"
      ],
      "metadata": {
        "colab": {
          "base_uri": "https://localhost:8080/",
          "height": 54
        },
        "id": "lRUkJkGzzwhd",
        "outputId": "28abb673-0968-4497-f284-439fd78e2659"
      },
      "execution_count": null,
      "outputs": [
        {
          "output_type": "execute_result",
          "data": {
            "text/plain": [
              "'591 housing transactions - renting houses, middle-class houses, new cases, real-time registration, villas through the sky, apartment suites, MRT, buying a house selling prices, housing mortgages'"
            ],
            "application/vnd.google.colaboratory.intrinsic+json": {
              "type": "string"
            }
          },
          "metadata": {},
          "execution_count": 12
        }
      ]
    },
    {
      "cell_type": "markdown",
      "source": [
        "# Soluciones comentadas"
      ],
      "metadata": {
        "id": "32bXC_hN0ZVv"
      }
    },
    {
      "cell_type": "code",
      "source": [
        "# %%timeit\n",
        "# largest_size = app_data.App.str.len().max()\n",
        "# largest_name = app_data.loc[app_data.App.str.len() == largest_size]\n",
        "# largest_name.App.values[0]"
      ],
      "metadata": {
        "id": "OYBThucHjdJP"
      },
      "execution_count": null,
      "outputs": []
    },
    {
      "cell_type": "code",
      "source": [
        "# Probe utilizando el builtin max, pero resultaba ser mas lento (use timeit), no por mucho, pero tenia mucha desviacion estandar, asi que lo comento\n",
        "# %%timeit\n",
        "# import builtins\n",
        "# largest_using_builtins = builtins.max(app_data.App.tolist(), key=len)\n",
        "# largest_using_builtins"
      ],
      "metadata": {
        "id": "qkQsUtrtjfn_"
      },
      "execution_count": null,
      "outputs": []
    },
    {
      "cell_type": "code",
      "source": [
        "# %%timeit\n",
        "# largest_name_app_data = app_data[\"App\"].apply(len).idxmax()\n",
        "# app_data.loc[largest_name_app_data, :].values[0]"
      ],
      "metadata": {
        "id": "3Ewhb8g3xFtf"
      },
      "execution_count": null,
      "outputs": []
    },
    {
      "cell_type": "code",
      "source": [
        "# %%timeit\n",
        "# largest_using_builtins = max(app_reviews.App.tolist(), key=len)\n",
        "# largest_using_builtins"
      ],
      "metadata": {
        "id": "xkKucz9BO7Xu"
      },
      "execution_count": null,
      "outputs": []
    },
    {
      "cell_type": "code",
      "source": [
        "# %%timeit\n",
        "# largest_size = app_reviews.App.str.len().max()\n",
        "# largest_name = app_reviews.loc[app_reviews.App.str.len() == largest_size]\n",
        "# largest_name.App.values[0] #Si se traduce el texto a ingles es el mismo que el encontrado en el dataframe de AppData =)"
      ],
      "metadata": {
        "id": "RrNDGzM2jYQs"
      },
      "execution_count": null,
      "outputs": []
    },
    {
      "cell_type": "code",
      "source": [
        "# %%timeit\n",
        "# import builtins\n",
        "# largest_using_builtins = builtins.max(app_reviews.App.tolist(), key=len)\n",
        "# largest_using_builtins"
      ],
      "metadata": {
        "id": "ckfAqVh6Lf93"
      },
      "execution_count": null,
      "outputs": []
    },
    {
      "cell_type": "code",
      "source": [],
      "metadata": {
        "id": "usqzRNz8uDky"
      },
      "execution_count": null,
      "outputs": []
    }
  ]
}